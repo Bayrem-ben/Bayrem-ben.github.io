{
  "nbformat": 4,
  "nbformat_minor": 0,
  "metadata": {
    "colab": {
      "name": "Bayrem of fcc_sms_text_classification.ipynb",
      "private_outputs": true,
      "provenance": [],
      "collapsed_sections": [],
      "include_colab_link": true
    },
    "kernelspec": {
      "display_name": "Python 3",
      "name": "python3"
    }
  },
  "cells": [
    {
      "cell_type": "markdown",
      "metadata": {
        "id": "view-in-github",
        "colab_type": "text"
      },
      "source": [
        "<a href=\"https://colab.research.google.com/github/Bayrem-ben/Bayrem-ben.github.io/blob/master/Bayrem_of_fcc_sms_text_classification.ipynb\" target=\"_parent\"><img src=\"https://colab.research.google.com/assets/colab-badge.svg\" alt=\"Open In Colab\"/></a>"
      ]
    },
    {
      "cell_type": "markdown",
      "metadata": {
        "id": "Eg62Pmz3o83v"
      },
      "source": [
        "*Note: You are currently reading this using Google Colaboratory which is a cloud-hosted version of Jupyter Notebook. This is a document containing both text cells for documentation and runnable code cells. If you are unfamiliar with Jupyter Notebook, watch this 3-minute introduction before starting this challenge: https://www.youtube.com/watch?v=inN8seMm7UI*\n",
        "\n",
        "---\n",
        "\n",
        "In this challenge, you need to create a machine learning model that will classify SMS messages as either \"ham\" or \"spam\". A \"ham\" message is a normal message sent by a friend. A \"spam\" message is an advertisement or a message sent by a company.\n",
        "\n",
        "You should create a function called `predict_message` that takes a message string as an argument and returns a list. The first element in the list should be a number between zero and one that indicates the likeliness of \"ham\" (0) or \"spam\" (1). The second element in the list should be the word \"ham\" or \"spam\", depending on which is most likely.\n",
        "\n",
        "For this challenge, you will use the [SMS Spam Collection dataset](http://www.dt.fee.unicamp.br/~tiago/smsspamcollection/). The dataset has already been grouped into train data and test data.\n",
        "\n",
        "The first two cells import the libraries and data. The final cell tests your model and function. Add your code in between these cells.\n"
      ]
    },
    {
      "cell_type": "code",
      "metadata": {
        "id": "8RZOuS9LWQvv"
      },
      "source": [
        "# import libraries\n",
        "try:\n",
        "  # %tensorflow_version only exists in Colab.\n",
        "  !pip install tf-nightly\n",
        "except Exception:\n",
        "  pass\n",
        "import tensorflow as tf\n",
        "import pandas as pd\n",
        "from tensorflow import keras\n",
        "!pip install tensorflow-datasets\n",
        "import tensorflow_datasets as tfds\n",
        "import numpy as np\n",
        "import matplotlib.pyplot as plt\n",
        "\n",
        "print(tf.__version__)"
      ],
      "execution_count": null,
      "outputs": []
    },
    {
      "cell_type": "code",
      "metadata": {
        "id": "lMHwYXHXCar3"
      },
      "source": [
        "# get data files\n",
        "!wget https://cdn.freecodecamp.org/project-data/sms/train-data.tsv\n",
        "!wget https://cdn.freecodecamp.org/project-data/sms/valid-data.tsv\n",
        "\n",
        "train_file_path = \"train-data.tsv\"\n",
        "test_file_path = \"valid-data.tsv\""
      ],
      "execution_count": null,
      "outputs": []
    },
    {
      "cell_type": "code",
      "metadata": {
        "id": "g_h508FEClxO"
      },
      "source": [
        "df_train = pd.read_table(train_file_path,sep='\\t', names=['spam', 'text'])\n",
        "df_test = pd.read_table(test_file_path,sep='\\t', names=['spam', 'text']) \n",
        "\n",
        "df_train['spam'] = df_train['spam'].replace({'ham': 0, 'spam': 1})\n",
        "df_test['spam'] = df_test['spam'].replace({'ham': 0, 'spam': 1})"
      ],
      "execution_count": null,
      "outputs": []
    },
    {
      "cell_type": "code",
      "metadata": {
        "id": "Rnsq9sqq5_lp"
      },
      "source": [
        "from tensorflow.keras.layers import SimpleRNN, Embedding, Dense, LSTM\n",
        "from tensorflow.keras.models import Sequential\n",
        "\n",
        "from tensorflow.keras.preprocessing.text import Tokenizer\n",
        "from tensorflow.keras.preprocessing.sequence import pad_sequences\n",
        "\n",
        "train_data = df_train['text']\n",
        "train_label = df_train['spam']\n",
        "\n",
        "test_data = df_test['text']\n",
        "test_label = df_test['spam']\n",
        "\n",
        "def get_txt(dat, lab=None) :\n",
        "  texts = np.asarray(dat)\n",
        "  labels = np.asarray(lab)\n",
        "\n",
        "  training_samples = int(len(texts))\n",
        "\n",
        "  tokenizer = Tokenizer()\n",
        "  tokenizer.fit_on_texts(texts)\n",
        "  sequences = tokenizer.texts_to_sequences(texts)\n",
        "\n",
        "  word_index = tokenizer.word_index\n",
        "\n",
        "  data = pad_sequences(sequences, maxlen=500) # cut off the words after seeing 500 words in each document(email)\n",
        "  #print(\"data shape: \", data.shape)\n",
        "\n",
        "  np.random.seed(42)\n",
        "  # shuffle data\n",
        "  indices = np.arange(data.shape[0])\n",
        "  np.random.shuffle(indices)\n",
        "  data = data[indices]\n",
        "  labels = labels[indices]\n",
        "\n",
        "  texts_train = data[:training_samples]\n",
        "  y_train = labels[:training_samples]\n",
        "  return texts_train, y_train\n",
        "\n",
        "texts_train , y_train = get_txt(train_data, train_label)\n",
        "texts_test, y_test = get_txt(test_data, test_label)"
      ],
      "execution_count": null,
      "outputs": []
    },
    {
      "cell_type": "code",
      "metadata": {
        "id": "3rnnBDLpSTME"
      },
      "source": [
        "\n",
        "model = Sequential()\n",
        "# Embedding layer\n",
        "model.add(Embedding(10000, 32)) #max_features = 10000 / 88584\n",
        "model.add(SimpleRNN(32))\n",
        "\"\"\"\n",
        "# Masking layer for pre-trained embeddings\n",
        "model.add(keras.layers.Masking(mask_value=0.0))\n",
        "# Recurrent layer\n",
        "\n",
        "# Fully connected layer\n",
        "model.add(Dense(32, activation='relu'))\n",
        "# Dropout for regularization\n",
        "model.add(Dropout(0.5))\n",
        "\"\"\"\n",
        "# Output layer\n",
        "model.add(Dense(1, activation='sigmoid'))\n",
        "\n",
        "model.compile(optimizer='rmsprop', loss='binary_crossentropy', metrics=['acc'])\n",
        "model.summary()"
      ],
      "execution_count": null,
      "outputs": []
    },
    {
      "cell_type": "code",
      "metadata": {
        "id": "_I5typQaSTxM"
      },
      "source": [
        "# fit the model\n",
        "history_rnn = model.fit(texts_train, y_train, epochs=10, batch_size=50, validation_split=0.2)"
      ],
      "execution_count": null,
      "outputs": []
    },
    {
      "cell_type": "code",
      "metadata": {
        "id": "S6E8GEkt_DIH"
      },
      "source": [
        "acc = history_rnn.history['acc']\n",
        "val_acc = history_rnn.history['val_acc']\n",
        "loss = history_rnn.history['loss']\n",
        "val_loss = history_rnn.history['val_loss']\n",
        "epochs = range(len(acc))\n",
        "plt.plot(epochs, acc, '-', color='orange', label='training acc')\n",
        "plt.plot(epochs, val_acc, '-', color='blue', label='validation acc')\n",
        "plt.title('Training and validation accuracy')\n",
        "plt.legend()\n",
        "plt.show()\n",
        "\n",
        "plt.plot(epochs, loss, '-', color='orange', label='training acc')\n",
        "plt.plot(epochs, val_loss,  '-', color='blue', label='validation acc')\n",
        "plt.title('Training and validation loss')\n",
        "plt.legend()\n",
        "plt.show()"
      ],
      "execution_count": null,
      "outputs": []
    },
    {
      "cell_type": "code",
      "metadata": {
        "id": "nv2m0oBn_Od_"
      },
      "source": [
        "pred = model.predict_classes(texts_test)\n",
        "acc = model.evaluate(texts_test, y_test)\n",
        "proba_rnn = model.predict_proba(texts_test)\n",
        "from sklearn.metrics import confusion_matrix, accuracy_score\n",
        "print(\"Test loss is {0:.2f} accuracy is {1:.2f}  \".format(acc[0],acc[1]))\n",
        "print(confusion_matrix(pred, y_test))\n",
        "print('Accuracy : ', accuracy_score(test_label, pred))"
      ],
      "execution_count": null,
      "outputs": []
    },
    {
      "cell_type": "code",
      "metadata": {
        "id": "J9tD9yACG6M9"
      },
      "source": [
        "# function to predict messages based on model\n",
        "# (should return list containing prediction and label, ex. [0.008318834938108921, 'ham'])\n",
        "from tensorflow.keras.preprocessing.text import Tokenizer\n",
        "from tensorflow.keras.preprocessing.sequence import pad_sequences\n",
        "\n",
        "def predict_message(pred_text):\n",
        "  sms_test = [pred_text]\n",
        "  tokenizer = Tokenizer()\n",
        "  tokenizer.index_word\n",
        "  tokenizer.fit_on_texts(sms_test)\n",
        "  sms_seq = tokenizer.texts_to_sequences(sms_test)\n",
        "  sms_pad = pad_sequences(sms_seq, maxlen=17, padding='post')\n",
        "  #sms_test = [pred_text]\n",
        "  #zero = [1]\n",
        "  #sms_pad, y = get_txt(sms_test, zero)\n",
        "\n",
        "  res_ = model.predict(sms_pad)\n",
        "  res_pred = model.predict_classes(sms_pad)\n",
        "\n",
        "  if (res_pred == 1 and res_*100 > 94 ) or 1<res_*100 <= 15 or res_*100 < 0.1 :\n",
        "  #if res_*100 <= 10:\n",
        "    spam = 'spam'\n",
        "    prediction = [pred_text, spam]\n",
        "  else :\n",
        "    spam = 'ham'\n",
        "    prediction = [pred_text, spam]\n",
        "  #print(res_*100, spam)\n",
        "\n",
        "  return prediction\n",
        "\n",
        "\n",
        "pred_text = \"how are you doing today?\"\n",
        "\n",
        "prediction = predict_message(pred_text)\n",
        "print(prediction)"
      ],
      "execution_count": null,
      "outputs": []
    },
    {
      "cell_type": "code",
      "metadata": {
        "id": "Dxotov85SjsC"
      },
      "source": [
        "# Run this cell to test your function and model. Do not modify contents.\n",
        "def test_predictions():\n",
        "  test_messages = [\"how are you doing today\",\n",
        "                   \"sale today! to stop texts call 98912460324\",\n",
        "                   \"i dont want to go. can we try it a different day? available sat\",\n",
        "                   \"our new mobile video service is live. just install on your phone to start watching.\",\n",
        "                   \"you have won £1000 cash! call to claim your prize.\",\n",
        "                   \"i'll bring it tomorrow. don't forget the milk.\",\n",
        "                   \"wow, is your arm alright. that happened to me one time too\"\n",
        "                  ]\n",
        "\n",
        "  test_answers = [\"ham\", \"spam\", \"ham\", \"spam\", \"spam\", \"ham\", \"ham\"]\n",
        "  passed = True\n",
        "\n",
        "  for msg, ans in zip(test_messages, test_answers):\n",
        "    prediction = predict_message(msg)\n",
        "    #print(prediction[1])\n",
        "    if prediction[1] != ans:\n",
        "      passed = False\n",
        "\n",
        "  if passed:\n",
        "    print(\"You passed the challenge. Great job!\")\n",
        "  else:\n",
        "    print(\"You haven't passed yet. Keep trying.\")\n",
        "\n",
        "test_predictions()\n"
      ],
      "execution_count": null,
      "outputs": []
    }
  ]
}