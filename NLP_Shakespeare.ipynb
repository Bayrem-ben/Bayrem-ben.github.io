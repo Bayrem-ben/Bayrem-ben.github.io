{
  "nbformat": 4,
  "nbformat_minor": 0,
  "metadata": {
    "accelerator": "GPU",
    "colab": {
      "name": "NLP_Shakespeare.ipynb",
      "provenance": [],
      "collapsed_sections": [],
      "toc_visible": true,
      "include_colab_link": true
    },
    "kernelspec": {
      "display_name": "Python 3",
      "name": "python3"
    }
  },
  "cells": [
    {
      "cell_type": "markdown",
      "metadata": {
        "id": "view-in-github",
        "colab_type": "text"
      },
      "source": [
        "<a href=\"https://colab.research.google.com/github/Bayrem-ben/colab.github.io/blob/master/NLP_Shakespeare.ipynb\" target=\"_parent\"><img src=\"https://colab.research.google.com/assets/colab-badge.svg\" alt=\"Open In Colab\"/></a>"
      ]
    },
    {
      "cell_type": "code",
      "metadata": {
        "id": "BOwsuGQQY9OL"
      },
      "source": [
        "from tensorflow.keras.preprocessing.sequence import pad_sequences\n",
        "from tensorflow.keras.layers import Embedding, LSTM, Dense, Dropout, Bidirectional\n",
        "from tensorflow.keras.preprocessing.text import Tokenizer\n",
        "from tensorflow.keras.models import Sequential\n",
        "from tensorflow.keras.optimizers import Adam\n",
        "### YOUR CODE HERE\n",
        "# Figure out how to import regularizers\n",
        "from tensorflow.keras import regularizers\n",
        "###\n",
        "import tensorflow.keras.utils as ku \n",
        "import numpy as np "
      ],
      "execution_count": 1,
      "outputs": []
    },
    {
      "cell_type": "code",
      "metadata": {
        "id": "PRnDnCW-Z7qv",
        "colab": {
          "base_uri": "https://localhost:8080/"
        },
        "outputId": "d09782e0-e213-491c-d7a9-b69c0a73000f"
      },
      "source": [
        "tokenizer = Tokenizer()\n",
        "!wget --no-check-certificate \\\n",
        "    https://storage.googleapis.com/laurencemoroney-blog.appspot.com/sonnets.txt \\\n",
        "    -O /tmp/sonnets.txt\n",
        "data = open('/tmp/sonnets.txt').read()\n",
        "\n",
        "corpus = data.lower().split(\"\\n\")\n",
        "\n",
        "\n",
        "tokenizer.fit_on_texts(corpus)\n",
        "total_words = len(tokenizer.word_index) + 1\n",
        "\n",
        "# create input sequences using list of tokens\n",
        "input_sequences = []\n",
        "for line in corpus:\n",
        "\ttoken_list = tokenizer.texts_to_sequences([line])[0]\n",
        "\tfor i in range(1, len(token_list)):\n",
        "\t\tn_gram_sequence = token_list[:i+1]\n",
        "\t\tinput_sequences.append(n_gram_sequence)\n",
        "\n",
        "\n",
        "# pad sequences \n",
        "max_sequence_len = max([len(x) for x in input_sequences])\n",
        "input_sequences = np.array(pad_sequences(input_sequences, maxlen=max_sequence_len, padding='pre'))\n",
        "\n",
        "# create predictors and label\n",
        "predictors, label = input_sequences[:,:-1],input_sequences[:,-1]\n",
        "\n",
        "label = ku.to_categorical(label, num_classes=total_words)"
      ],
      "execution_count": 2,
      "outputs": [
        {
          "output_type": "stream",
          "text": [
            "--2021-07-02 02:00:27--  https://storage.googleapis.com/laurencemoroney-blog.appspot.com/sonnets.txt\n",
            "Resolving storage.googleapis.com (storage.googleapis.com)... 172.217.9.208, 172.217.164.176, 172.217.2.112, ...\n",
            "Connecting to storage.googleapis.com (storage.googleapis.com)|172.217.9.208|:443... connected.\n",
            "HTTP request sent, awaiting response... 200 OK\n",
            "Length: 93578 (91K) [text/plain]\n",
            "Saving to: ‘/tmp/sonnets.txt’\n",
            "\n",
            "\r/tmp/sonnets.txt      0%[                    ]       0  --.-KB/s               \r/tmp/sonnets.txt    100%[===================>]  91.38K  --.-KB/s    in 0.001s  \n",
            "\n",
            "2021-07-02 02:00:27 (112 MB/s) - ‘/tmp/sonnets.txt’ saved [93578/93578]\n",
            "\n"
          ],
          "name": "stdout"
        }
      ]
    },
    {
      "cell_type": "code",
      "metadata": {
        "id": "w9vH8Y59ajYL",
        "colab": {
          "base_uri": "https://localhost:8080/"
        },
        "outputId": "20013476-5c45-4a65-ceeb-ae68ffe676d1"
      },
      "source": [
        "model = Sequential()\n",
        "model.add(Embedding(total_words, 100, input_length=max_sequence_len-1)) # Your Embedding Layer)\n",
        "model.add(Bidirectional(LSTM(150, return_sequences = True))) # An LSTM Layer)\n",
        "model.add(Dropout(0.2)) # A dropout layer)\n",
        "model.add(LSTM(100)) # Another LSTM Layer)\n",
        "model.add(Dense(total_words/2, activation='relu', kernel_regularizer=regularizers.l1(0.001))) # A Dense Layer including regularizers/ kernel_regularizer=regularizers.l2(0.01)))\n",
        "model.add(Dense(total_words, activation='softmax')) # A Dense Layer)\n",
        "# Pick an optimizer\n",
        "adam = Adam(lr=0.01)\n",
        "model.compile(loss='categorical_crossentropy', optimizer=adam, metrics=['accuracy']) # Pick a loss function and an optimizer)\n",
        "print(model.summary())\n"
      ],
      "execution_count": 12,
      "outputs": [
        {
          "output_type": "stream",
          "text": [
            "Model: \"sequential_5\"\n",
            "_________________________________________________________________\n",
            "Layer (type)                 Output Shape              Param #   \n",
            "=================================================================\n",
            "embedding_5 (Embedding)      (None, 10, 100)           321100    \n",
            "_________________________________________________________________\n",
            "bidirectional_5 (Bidirection (None, 10, 300)           301200    \n",
            "_________________________________________________________________\n",
            "dropout_5 (Dropout)          (None, 10, 300)           0         \n",
            "_________________________________________________________________\n",
            "lstm_11 (LSTM)               (None, 100)               160400    \n",
            "_________________________________________________________________\n",
            "dense_8 (Dense)              (None, 1605)              162105    \n",
            "_________________________________________________________________\n",
            "dense_9 (Dense)              (None, 3211)              5156866   \n",
            "=================================================================\n",
            "Total params: 6,101,671\n",
            "Trainable params: 6,101,671\n",
            "Non-trainable params: 0\n",
            "_________________________________________________________________\n",
            "None\n"
          ],
          "name": "stdout"
        },
        {
          "output_type": "stream",
          "text": [
            "/usr/local/lib/python3.7/dist-packages/tensorflow/python/keras/optimizer_v2/optimizer_v2.py:375: UserWarning: The `lr` argument is deprecated, use `learning_rate` instead.\n",
            "  \"The `lr` argument is deprecated, use `learning_rate` instead.\")\n"
          ],
          "name": "stderr"
        }
      ]
    },
    {
      "cell_type": "code",
      "metadata": {
        "id": "AIg2f1HBxqof",
        "colab": {
          "base_uri": "https://localhost:8080/"
        },
        "outputId": "5912618d-26fc-4093-a5be-854b3b2dd080"
      },
      "source": [
        " history = model.fit(predictors, label, epochs=100, verbose=1)"
      ],
      "execution_count": 13,
      "outputs": [
        {
          "output_type": "stream",
          "text": [
            "Epoch 1/100\n",
            "484/484 [==============================] - 9s 12ms/step - loss: 7.1461 - accuracy: 0.0218\n",
            "Epoch 2/100\n",
            "484/484 [==============================] - 6s 12ms/step - loss: 6.7196 - accuracy: 0.0233\n",
            "Epoch 3/100\n",
            "484/484 [==============================] - 6s 12ms/step - loss: 6.6892 - accuracy: 0.0264\n",
            "Epoch 4/100\n",
            "484/484 [==============================] - 6s 12ms/step - loss: 6.5986 - accuracy: 0.0259\n",
            "Epoch 5/100\n",
            "484/484 [==============================] - 6s 11ms/step - loss: 6.5339 - accuracy: 0.0296\n",
            "Epoch 6/100\n",
            "484/484 [==============================] - 6s 11ms/step - loss: 6.4890 - accuracy: 0.0323\n",
            "Epoch 7/100\n",
            "484/484 [==============================] - 6s 12ms/step - loss: 6.4688 - accuracy: 0.0322\n",
            "Epoch 8/100\n",
            "484/484 [==============================] - 6s 11ms/step - loss: 6.4551 - accuracy: 0.0327\n",
            "Epoch 9/100\n",
            "484/484 [==============================] - 6s 11ms/step - loss: 6.4309 - accuracy: 0.0344\n",
            "Epoch 10/100\n",
            "484/484 [==============================] - 5s 11ms/step - loss: 6.4039 - accuracy: 0.0332\n",
            "Epoch 11/100\n",
            "484/484 [==============================] - 5s 11ms/step - loss: 6.3719 - accuracy: 0.0328\n",
            "Epoch 12/100\n",
            "484/484 [==============================] - 5s 11ms/step - loss: 6.3422 - accuracy: 0.0329\n",
            "Epoch 13/100\n",
            "484/484 [==============================] - 5s 11ms/step - loss: 6.3395 - accuracy: 0.0350\n",
            "Epoch 14/100\n",
            "484/484 [==============================] - 5s 11ms/step - loss: 6.3116 - accuracy: 0.0345\n",
            "Epoch 15/100\n",
            "484/484 [==============================] - 5s 11ms/step - loss: 6.2925 - accuracy: 0.0362\n",
            "Epoch 16/100\n",
            "484/484 [==============================] - 5s 11ms/step - loss: 6.2666 - accuracy: 0.0376\n",
            "Epoch 17/100\n",
            "484/484 [==============================] - 5s 11ms/step - loss: 6.2579 - accuracy: 0.0380\n",
            "Epoch 18/100\n",
            "484/484 [==============================] - 5s 11ms/step - loss: 6.2482 - accuracy: 0.0384\n",
            "Epoch 19/100\n",
            "484/484 [==============================] - 6s 11ms/step - loss: 6.2427 - accuracy: 0.0378\n",
            "Epoch 20/100\n",
            "484/484 [==============================] - 6s 11ms/step - loss: 6.2268 - accuracy: 0.0419\n",
            "Epoch 21/100\n",
            "484/484 [==============================] - 5s 11ms/step - loss: 6.2111 - accuracy: 0.0406\n",
            "Epoch 22/100\n",
            "484/484 [==============================] - 6s 11ms/step - loss: 6.1991 - accuracy: 0.0406\n",
            "Epoch 23/100\n",
            "484/484 [==============================] - 5s 11ms/step - loss: 6.1892 - accuracy: 0.0410\n",
            "Epoch 24/100\n",
            "484/484 [==============================] - 5s 11ms/step - loss: 6.1743 - accuracy: 0.0396\n",
            "Epoch 25/100\n",
            "484/484 [==============================] - 6s 11ms/step - loss: 6.1670 - accuracy: 0.0409\n",
            "Epoch 26/100\n",
            "484/484 [==============================] - 6s 12ms/step - loss: 6.1468 - accuracy: 0.0424\n",
            "Epoch 27/100\n",
            "484/484 [==============================] - 6s 12ms/step - loss: 6.1414 - accuracy: 0.0407\n",
            "Epoch 28/100\n",
            "484/484 [==============================] - 6s 12ms/step - loss: 6.1454 - accuracy: 0.0410\n",
            "Epoch 29/100\n",
            "484/484 [==============================] - 6s 12ms/step - loss: 6.1290 - accuracy: 0.0410\n",
            "Epoch 30/100\n",
            "484/484 [==============================] - 6s 11ms/step - loss: 6.1304 - accuracy: 0.0429\n",
            "Epoch 31/100\n",
            "484/484 [==============================] - 6s 12ms/step - loss: 6.1152 - accuracy: 0.0416\n",
            "Epoch 32/100\n",
            "484/484 [==============================] - 6s 12ms/step - loss: 6.1060 - accuracy: 0.0431\n",
            "Epoch 33/100\n",
            "484/484 [==============================] - 6s 11ms/step - loss: 6.0958 - accuracy: 0.0434\n",
            "Epoch 34/100\n",
            "484/484 [==============================] - 6s 12ms/step - loss: 6.0919 - accuracy: 0.0427\n",
            "Epoch 35/100\n",
            "484/484 [==============================] - 6s 11ms/step - loss: 6.0923 - accuracy: 0.0446\n",
            "Epoch 36/100\n",
            "484/484 [==============================] - 6s 12ms/step - loss: 6.0835 - accuracy: 0.0433\n",
            "Epoch 37/100\n",
            "484/484 [==============================] - 6s 12ms/step - loss: 6.0755 - accuracy: 0.0455\n",
            "Epoch 38/100\n",
            "484/484 [==============================] - 6s 12ms/step - loss: 6.0751 - accuracy: 0.0437\n",
            "Epoch 39/100\n",
            "484/484 [==============================] - 6s 11ms/step - loss: 6.0649 - accuracy: 0.0433\n",
            "Epoch 40/100\n",
            "484/484 [==============================] - 6s 11ms/step - loss: 6.0640 - accuracy: 0.0450\n",
            "Epoch 41/100\n",
            "484/484 [==============================] - 5s 11ms/step - loss: 6.0671 - accuracy: 0.0438\n",
            "Epoch 42/100\n",
            "484/484 [==============================] - 6s 11ms/step - loss: 6.0682 - accuracy: 0.0447\n",
            "Epoch 43/100\n",
            "484/484 [==============================] - 6s 12ms/step - loss: 6.0504 - accuracy: 0.0431\n",
            "Epoch 44/100\n",
            "484/484 [==============================] - 6s 11ms/step - loss: 6.0559 - accuracy: 0.0449\n",
            "Epoch 45/100\n",
            "484/484 [==============================] - 5s 11ms/step - loss: 6.0322 - accuracy: 0.0454\n",
            "Epoch 46/100\n",
            "484/484 [==============================] - 5s 11ms/step - loss: 6.0232 - accuracy: 0.0450\n",
            "Epoch 47/100\n",
            "484/484 [==============================] - 6s 11ms/step - loss: 6.0233 - accuracy: 0.0446\n",
            "Epoch 48/100\n",
            "484/484 [==============================] - 5s 11ms/step - loss: 6.0143 - accuracy: 0.0475\n",
            "Epoch 49/100\n",
            "484/484 [==============================] - 5s 11ms/step - loss: 6.0129 - accuracy: 0.0446\n",
            "Epoch 50/100\n",
            "484/484 [==============================] - 5s 11ms/step - loss: 6.0032 - accuracy: 0.0459\n",
            "Epoch 51/100\n",
            "484/484 [==============================] - 5s 11ms/step - loss: 6.0050 - accuracy: 0.0479\n",
            "Epoch 52/100\n",
            "484/484 [==============================] - 6s 11ms/step - loss: 5.9979 - accuracy: 0.0457\n",
            "Epoch 53/100\n",
            "484/484 [==============================] - 5s 11ms/step - loss: 6.0164 - accuracy: 0.0471\n",
            "Epoch 54/100\n",
            "484/484 [==============================] - 6s 12ms/step - loss: 6.0003 - accuracy: 0.0482\n",
            "Epoch 55/100\n",
            "484/484 [==============================] - 6s 12ms/step - loss: 5.9934 - accuracy: 0.0471\n",
            "Epoch 56/100\n",
            "484/484 [==============================] - 5s 11ms/step - loss: 6.0024 - accuracy: 0.0462\n",
            "Epoch 57/100\n",
            "484/484 [==============================] - 5s 11ms/step - loss: 5.9903 - accuracy: 0.0476\n",
            "Epoch 58/100\n",
            "484/484 [==============================] - 5s 11ms/step - loss: 6.0013 - accuracy: 0.0466\n",
            "Epoch 59/100\n",
            "484/484 [==============================] - 6s 12ms/step - loss: 5.9856 - accuracy: 0.0490\n",
            "Epoch 60/100\n",
            "484/484 [==============================] - 6s 12ms/step - loss: 5.9718 - accuracy: 0.0479\n",
            "Epoch 61/100\n",
            "484/484 [==============================] - 5s 11ms/step - loss: 5.9703 - accuracy: 0.0492\n",
            "Epoch 62/100\n",
            "484/484 [==============================] - 5s 11ms/step - loss: 5.9780 - accuracy: 0.0477\n",
            "Epoch 63/100\n",
            "484/484 [==============================] - 5s 11ms/step - loss: 5.9827 - accuracy: 0.0497\n",
            "Epoch 64/100\n",
            "484/484 [==============================] - 5s 11ms/step - loss: 5.9828 - accuracy: 0.0504\n",
            "Epoch 65/100\n",
            "484/484 [==============================] - 5s 11ms/step - loss: 5.9788 - accuracy: 0.0493\n",
            "Epoch 66/100\n",
            "484/484 [==============================] - 6s 11ms/step - loss: 5.9694 - accuracy: 0.0492\n",
            "Epoch 67/100\n",
            "484/484 [==============================] - 5s 11ms/step - loss: 5.9703 - accuracy: 0.0493\n",
            "Epoch 68/100\n",
            "484/484 [==============================] - 5s 11ms/step - loss: 5.9514 - accuracy: 0.0493\n",
            "Epoch 69/100\n",
            "484/484 [==============================] - 5s 11ms/step - loss: 5.9513 - accuracy: 0.0493\n",
            "Epoch 70/100\n",
            "484/484 [==============================] - 5s 11ms/step - loss: 5.9700 - accuracy: 0.0505\n",
            "Epoch 71/100\n",
            "484/484 [==============================] - 6s 11ms/step - loss: 5.9548 - accuracy: 0.0521\n",
            "Epoch 72/100\n",
            "484/484 [==============================] - 6s 11ms/step - loss: 5.9560 - accuracy: 0.0519\n",
            "Epoch 73/100\n",
            "484/484 [==============================] - 6s 11ms/step - loss: 5.9593 - accuracy: 0.0512\n",
            "Epoch 74/100\n",
            "484/484 [==============================] - 5s 11ms/step - loss: 5.9472 - accuracy: 0.0514\n",
            "Epoch 75/100\n",
            "484/484 [==============================] - 5s 11ms/step - loss: 5.9497 - accuracy: 0.0519\n",
            "Epoch 76/100\n",
            "484/484 [==============================] - 6s 11ms/step - loss: 5.9558 - accuracy: 0.0508\n",
            "Epoch 77/100\n",
            "484/484 [==============================] - 5s 11ms/step - loss: 5.9524 - accuracy: 0.0516\n",
            "Epoch 78/100\n",
            "484/484 [==============================] - 6s 11ms/step - loss: 5.9627 - accuracy: 0.0515\n",
            "Epoch 79/100\n",
            "484/484 [==============================] - 6s 11ms/step - loss: 5.9366 - accuracy: 0.0521\n",
            "Epoch 80/100\n",
            "484/484 [==============================] - 6s 12ms/step - loss: 5.9449 - accuracy: 0.0536\n",
            "Epoch 81/100\n",
            "484/484 [==============================] - 6s 11ms/step - loss: 5.9489 - accuracy: 0.0538\n",
            "Epoch 82/100\n",
            "484/484 [==============================] - 6s 12ms/step - loss: 5.9467 - accuracy: 0.0535\n",
            "Epoch 83/100\n",
            "484/484 [==============================] - 5s 11ms/step - loss: 5.9299 - accuracy: 0.0517\n",
            "Epoch 84/100\n",
            "484/484 [==============================] - 6s 11ms/step - loss: 5.9392 - accuracy: 0.0529\n",
            "Epoch 85/100\n",
            "484/484 [==============================] - 6s 12ms/step - loss: 5.9384 - accuracy: 0.0536\n",
            "Epoch 86/100\n",
            "484/484 [==============================] - 5s 11ms/step - loss: 5.9372 - accuracy: 0.0526\n",
            "Epoch 87/100\n",
            "484/484 [==============================] - 6s 11ms/step - loss: 5.9235 - accuracy: 0.0526\n",
            "Epoch 88/100\n",
            "484/484 [==============================] - 6s 12ms/step - loss: 5.9381 - accuracy: 0.0516\n",
            "Epoch 89/100\n",
            "484/484 [==============================] - 6s 11ms/step - loss: 5.9365 - accuracy: 0.0517\n",
            "Epoch 90/100\n",
            "484/484 [==============================] - 6s 11ms/step - loss: 5.9278 - accuracy: 0.0517\n",
            "Epoch 91/100\n",
            "484/484 [==============================] - 6s 11ms/step - loss: 5.9284 - accuracy: 0.0509\n",
            "Epoch 92/100\n",
            "484/484 [==============================] - 6s 11ms/step - loss: 5.9536 - accuracy: 0.0521\n",
            "Epoch 93/100\n",
            "484/484 [==============================] - 6s 11ms/step - loss: 5.9316 - accuracy: 0.0518\n",
            "Epoch 94/100\n",
            "484/484 [==============================] - 5s 11ms/step - loss: 5.9373 - accuracy: 0.0514\n",
            "Epoch 95/100\n",
            "484/484 [==============================] - 5s 11ms/step - loss: 5.9323 - accuracy: 0.0525\n",
            "Epoch 96/100\n",
            "484/484 [==============================] - 6s 11ms/step - loss: 5.9239 - accuracy: 0.0539\n",
            "Epoch 97/100\n",
            "484/484 [==============================] - 5s 11ms/step - loss: 5.9230 - accuracy: 0.0530\n",
            "Epoch 98/100\n",
            "484/484 [==============================] - 5s 11ms/step - loss: 5.9224 - accuracy: 0.0531\n",
            "Epoch 99/100\n",
            "484/484 [==============================] - 5s 11ms/step - loss: 5.9201 - accuracy: 0.0535\n",
            "Epoch 100/100\n",
            "484/484 [==============================] - 5s 11ms/step - loss: 5.9322 - accuracy: 0.0517\n"
          ],
          "name": "stdout"
        }
      ]
    },
    {
      "cell_type": "code",
      "metadata": {
        "id": "1fXTEO3GJ282",
        "colab": {
          "base_uri": "https://localhost:8080/",
          "height": 545
        },
        "outputId": "22d12bb8-b5e0-45ce-d2f6-f8d50695108f"
      },
      "source": [
        "import matplotlib.pyplot as plt\n",
        "acc = history.history['accuracy']\n",
        "loss = history.history['loss']\n",
        "\n",
        "epochs = range(len(acc))\n",
        "\n",
        "plt.plot(epochs, acc, 'b', label='Training accuracy')\n",
        "plt.title('Training accuracy')\n",
        "\n",
        "plt.figure()\n",
        "\n",
        "plt.plot(epochs, loss, 'b', label='Training Loss')\n",
        "plt.title('Training loss')\n",
        "plt.legend()\n",
        "\n",
        "plt.show()"
      ],
      "execution_count": 14,
      "outputs": [
        {
          "output_type": "display_data",
          "data": {
            "image/png": "[encoded data removed]",
            "text/plain": [
              "<Figure size 432x288 with 1 Axes>"
            ]
          },
          "metadata": {
            "tags": [],
            "needs_background": "light"
          }
        },
        {
          "output_type": "display_data",
          "data": {
            "image/png": "[encoded data removed]",
            "text/plain": [
              "<Figure size 432x288 with 1 Axes>"
            ]
          },
          "metadata": {
            "tags": [],
            "needs_background": "light"
          }
        }
      ]
    },
    {
      "cell_type": "code",
      "metadata": {
        "id": "6Vc6PHgxa6Hm",
        "colab": {
          "base_uri": "https://localhost:8080/"
        },
        "outputId": "5a8f3999-b8f9-41d9-8bac-38c796eda5f2"
      },
      "source": [
        "seed_text = \"Help me Obi Wan Kenobi, you're my only hope\"\n",
        "next_words = 100\n",
        "  \n",
        "for _ in range(next_words):\n",
        "\ttoken_list = tokenizer.texts_to_sequences([seed_text])[0]\n",
        "\ttoken_list = pad_sequences([token_list], maxlen=max_sequence_len-1, padding='pre')\n",
        "\tpredicted = model.predict_classes(token_list, verbose=0)\n",
        "\toutput_word = \"\"\n",
        "\tfor word, index in tokenizer.word_index.items():\n",
        "\t\tif index == predicted:\n",
        "\t\t\toutput_word = word\n",
        "\t\t\tbreak\n",
        "\tseed_text += \" \" + output_word\n",
        "print(seed_text)"
      ],
      "execution_count": 15,
      "outputs": [
        {
          "output_type": "stream",
          "text": [
            "/usr/local/lib/python3.7/dist-packages/tensorflow/python/keras/engine/sequential.py:455: UserWarning: `model.predict_classes()` is deprecated and will be removed after 2021-01-01. Please use instead:* `np.argmax(model.predict(x), axis=-1)`,   if your model does multi-class classification   (e.g. if it uses a `softmax` last-layer activation).* `(model.predict(x) > 0.5).astype(\"int32\")`,   if your model does binary classification   (e.g. if it uses a `sigmoid` last-layer activation).\n",
            "  warnings.warn('`model.predict_classes()` is deprecated and '\n"
          ],
          "name": "stderr"
        },
        {
          "output_type": "stream",
          "text": [
            "Help me Obi Wan Kenobi, you're my only hope to in the world to i i am to i i am to i i am to i i am to i i am to i i am to i i am to i i am to i i am to i i am to i i am to i i am to i i am to i i am to i i am to i i am to i i am to i i am to i i am to i i am to i i am to i i am to i i am to i i am\n"
          ],
          "name": "stdout"
        }
      ]
    }
  ]
}