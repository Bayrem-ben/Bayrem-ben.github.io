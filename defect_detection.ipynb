{
  "nbformat": 4,
  "nbformat_minor": 0,
  "metadata": {
    "colab": {
      "name": "defect_detection.ipynb",
      "provenance": [],
      "collapsed_sections": [],
      "authorship_tag": "ABX9TyPeFnWnSwTPC6JVlHsGZWwd",
      "include_colab_link": true
    },
    "kernelspec": {
      "name": "python3",
      "display_name": "Python 3"
    },
    "language_info": {
      "name": "python"
    }
  },
  "cells": [
    {
      "cell_type": "markdown",
      "metadata": {
        "id": "view-in-github",
        "colab_type": "text"
      },
      "source": [
        "<a href=\"https://colab.research.google.com/github/Bayrem-ben/Bayrem-ben.github.io/blob/master/defect_detection.ipynb\" target=\"_parent\"><img src=\"https://colab.research.google.com/assets/colab-badge.svg\" alt=\"Open In Colab\"/></a>"
      ]
    },
    {
      "cell_type": "code",
      "metadata": {
        "colab": {
          "base_uri": "https://localhost:8080/"
        },
        "id": "GrIwqyZH510y",
        "outputId": "766d8889-98e7-4edb-8ff5-582c9aabbdde"
      },
      "source": [
        "from google.colab import drive\n",
        "drive.mount(\"/content/drive\")"
      ],
      "execution_count": 5,
      "outputs": [
        {
          "output_type": "stream",
          "text": [
            "Drive already mounted at /content/drive; to attempt to forcibly remount, call drive.mount(\"/content/drive\", force_remount=True).\n"
          ],
          "name": "stdout"
        }
      ]
    },
    {
      "cell_type": "code",
      "metadata": {
        "id": "SBdmLjOX5-Jc"
      },
      "source": [
        "import cv2\n",
        "import imutils\n",
        "import os\n",
        "import numpy as np\n",
        "import pandas as pd\n",
        "import matplotlib.pyplot as plt\n",
        "from PIL import Image\n",
        "import tensorflow as tf\n",
        "from tensorflow import keras\n",
        "from tensorflow.keras import layers\n",
        "from tensorflow.keras.models import Sequential\n",
        "from tensorflow.keras.layers import Dense, Conv2D, Flatten, Dropout, MaxPooling2D\n",
        "from tensorflow.keras.preprocessing.image import ImageDataGenerator\n",
        "\n",
        "from google.colab.patches import cv2_imshow"
      ],
      "execution_count": 6,
      "outputs": []
    },
    {
      "cell_type": "code",
      "metadata": {
        "id": "VOVFrxAz5-Rc"
      },
      "source": [
        "imageDir_conforme = os.path.join('/content/drive/My Drive/','draimer/')\n",
        "imageDir_non_conforme = os.path.join('/content/drive/My Drive/', 'draimer défaut/')"
      ],
      "execution_count": 7,
      "outputs": []
    },
    {
      "cell_type": "code",
      "metadata": {
        "id": "D0ipXX6S1atE"
      },
      "source": [
        "#verification\n",
        "for dirname, _, filenames in os.walk(imageDir_conforme):\n",
        "    for filename in filenames:\n",
        "        print(os.path.join(dirname, filename))\n",
        "\n",
        "for dirname, _, filenames in os.walk(imageDir_non_conforme):\n",
        "    for filename in filenames:\n",
        "        print(os.path.join(dirname, filename))"
      ],
      "execution_count": null,
      "outputs": []
    },
    {
      "cell_type": "code",
      "metadata": {
        "id": "EIp13P0_KlM_"
      },
      "source": [
        "\"\"\"\n",
        "train_image_generator = ImageDataGenerator(rescale=1./255, shear_range=0.2, zoom_range=0.2, \n",
        "                                           rotation_range=20, horizontal_flip=True)\n",
        "\n",
        "data_conf = train_image_generator.flow_from_directory(batch_size=32,\n",
        "                                                     directory=imageDir_conforme,\n",
        "                                                     target_size=(224, 224),\n",
        "                                                     class_mode='binary')\n",
        "\n",
        "data_nconf = train_image_generator.flow_from_directory(batch_size=32,\n",
        "                                                     directory=imageDir_non_conforme,\n",
        "                                                     target_size=(224, 224),\n",
        "                                                     class_mode='binary')\n",
        "\n",
        "with open('/content/gdrive/My Drive/file.txt', 'w') as f:\n",
        "  f.write('content')\n",
        "\n",
        "\"\"\""
      ],
      "execution_count": null,
      "outputs": []
    },
    {
      "cell_type": "code",
      "metadata": {
        "colab": {
          "base_uri": "https://localhost:8080/"
        },
        "id": "RYIs2JpXmM9t",
        "outputId": "eb34950e-e94e-4748-d7c2-471f55fd034c"
      },
      "source": [
        "from PIL import Image\n",
        "from imutils import face_utils\n",
        "\n",
        "def countour_img(path):\n",
        "  l = []\n",
        "  cnt_list = []\n",
        "  dim = (224, 224)\n",
        "\n",
        "  for fname in os.listdir(path):\n",
        "        fpath = os.path.join(path, fname)\n",
        "        image = cv2.imread(fpath)\n",
        "        image = cv2.resize(image, dim, Image.ANTIALIAS)\n",
        "\n",
        "        #gray image conversion\n",
        "        gray = cv2.cvtColor(image, cv2.COLOR_BGR2GRAY)\n",
        "        #applying edge detection\n",
        "        edged = cv2.Canny(gray , 50, 255)\n",
        "        #threshholding\n",
        "        thresh=cv2.threshold(edged,50,255,cv2.THRESH_BINARY_INV)[1]\n",
        "        #cnts = cv2.findContours(edged.copy(), cv2.RETR_EXTERNAL, cv2.CHAIN_APPROX_SIMPLE)\n",
        "        cnts = cv2.findContours(thresh.copy(),cv2.RETR_TREE, cv2.CHAIN_APPROX_SIMPLE) #RETR_LIST #contours, _ \n",
        "        #clean concour\n",
        "        cnts = imutils.grab_contours(cnts)\n",
        "        image = cv2.drawContours(image, cnts, -1, (0, 255, 0), -1) \n",
        "\n",
        "        l.append(image)        \n",
        "  return l\n",
        "\n",
        "data1 = countour_img(imageDir_conforme)\n",
        "data2 = countour_img(imageDir_non_conforme)\n",
        "#for i in data2 :\n",
        "    #data1.append(i)\n",
        "img_tr = data1 + data2\n",
        "img_train = np.asarray(img_tr)\n",
        "print(img_train.shape)\n",
        "#non_defect_images = np.concatenate((non_defect_images1, non_defect_images2))\n",
        "\n",
        "a = data1.copy()\n",
        "for n, i in enumerate(a):\n",
        "  a[n] = 0\n",
        "\n",
        "b = data2.copy()\n",
        "for n, i in enumerate(b):\n",
        "  b[n] = 1\n",
        "lab_tr = a + b\n",
        "lab_train = np.asarray(lab_tr)\n",
        "print(len(lab_train))"
      ],
      "execution_count": 42,
      "outputs": [
        {
          "output_type": "stream",
          "text": [
            "(184, 224, 224, 3)\n",
            "184\n"
          ],
          "name": "stdout"
        }
      ]
    },
    {
      "cell_type": "code",
      "metadata": {
        "colab": {
          "base_uri": "https://localhost:8080/",
          "height": 303
        },
        "id": "dXqflSCN2Dj7",
        "outputId": "cb1cd2b7-35ed-4eb1-a39c-ccbd53f3a792"
      },
      "source": [
        "i = 52\n",
        "\n",
        "print(len(img_train))\n",
        "plt.imshow(img_train[i])"
      ],
      "execution_count": 51,
      "outputs": [
        {
          "output_type": "stream",
          "text": [
            "184\n"
          ],
          "name": "stdout"
        },
        {
          "output_type": "execute_result",
          "data": {
            "text/plain": [
              "<matplotlib.image.AxesImage at 0x7f3f61147a50>"
            ]
          },
          "metadata": {
            "tags": []
          },
          "execution_count": 51
        },
        {
          "output_type": "display_data",
          "data": {
            "image/png": "[encoded data removed]",
            "text/plain": [
              "<Figure size 432x288 with 1 Axes>"
            ]
          },
          "metadata": {
            "tags": [],
            "needs_background": "light"
          }
        }
      ]
    },
    {
      "cell_type": "code",
      "metadata": {
        "colab": {
          "base_uri": "https://localhost:8080/",
          "height": 86
        },
        "id": "qP8DVO0f7fYm",
        "outputId": "3acbc53a-6b1d-4293-8351-3824307e9638"
      },
      "source": [
        "from tensorflow.keras import datasets, layers, models, optimizers, regularizers\n",
        "from tensorflow.keras.callbacks import EarlyStopping, ModelCheckpoint\n",
        "from sklearn.model_selection import train_test_split\n",
        "from tensorflow.keras.layers import Dense, Activation,Dropout\n",
        "from tensorflow.keras.models import Sequential\n",
        "from tensorflow.keras.layers import SimpleRNN, Embedding, LSTM\n",
        "\n",
        "\n",
        "def create_model(image_shape=(256, 4096, 1), print_summary=False):\n",
        "    # Initial model\n",
        "    model = models.Sequential()\n",
        "\n",
        " \n",
        "    model.add(layers.Flatten())\n",
        " \n",
        "    # Fully connected layer -> nn layer with 64 nodes\n",
        "    model.add(layers.Dense(64))\n",
        "    model.add(layers.BatchNormalization())\n",
        "    model.add(layers.Activation(\"relu\"))\n",
        "    model.add(layers.Dropout(0.25))\n",
        "    # Fully connected layer -> nn layer with 64 nodes\n",
        "    model.add(layers.Dense(64))\n",
        "    model.add(layers.BatchNormalization())\n",
        "    model.add(layers.Activation(\"relu\"))\n",
        "    model.add(layers.Dropout(0.25))\n",
        " \n",
        "    # Output layer\n",
        "    model.add(layers.Dense(1, activation=\"sigmoid\"))\n",
        " \n",
        "    # Set model compiler\n",
        "    model.compile(optimizer=\"SGD\", loss=\"binary_crossentropy\", metrics=[\"acc\"])\n",
        "    \n",
        "    return model\n",
        "model = create_model()\n",
        "\"\"\"\n",
        "model = Sequential()\n",
        "model.add(Embedding(10000, 32))\n",
        "model.add(SimpleRNN(32))\n",
        "\n",
        "model.add(Dense(units=8000,activation='relu'))\n",
        "model.add(Dropout(0.5))\n",
        "\n",
        "model.add(Dense(units=4000,activation='relu'))\n",
        "model.add(Dropout(0.5))\n",
        "\n",
        "model.add(Dense(units=1000,activation='relu'))\n",
        "model.add(Dropout(0.5))\n",
        "\n",
        "model.add(Dense(units=400,activation='relu'))\n",
        "model.add(Dropout(0.5))\n",
        "\n",
        "# Output layer\n",
        "model.add(Dense(1, activation='sigmoid'))\n",
        "\n",
        "model.compile(optimizer='rmsprop', loss='binary_crossentropy', metrics=['acc'])\n",
        "model.summary()\n",
        "\"\"\""
      ],
      "execution_count": 37,
      "outputs": [
        {
          "output_type": "execute_result",
          "data": {
            "application/vnd.google.colaboratory.intrinsic+json": {
              "type": "string"
            },
            "text/plain": [
              "\"\\nmodel = Sequential()\\nmodel.add(Embedding(10000, 32))\\nmodel.add(SimpleRNN(32))\\n\\nmodel.add(Dense(units=8000,activation='relu'))\\nmodel.add(Dropout(0.5))\\n\\nmodel.add(Dense(units=4000,activation='relu'))\\nmodel.add(Dropout(0.5))\\n\\nmodel.add(Dense(units=1000,activation='relu'))\\nmodel.add(Dropout(0.5))\\n\\nmodel.add(Dense(units=400,activation='relu'))\\nmodel.add(Dropout(0.5))\\n\\n# Output layer\\nmodel.add(Dense(1, activation='sigmoid'))\\n\\nmodel.compile(optimizer='rmsprop', loss='binary_crossentropy', metrics=['acc'])\\nmodel.summary()\\n\""
            ]
          },
          "metadata": {
            "tags": []
          },
          "execution_count": 37
        }
      ]
    },
    {
      "cell_type": "code",
      "metadata": {
        "id": "813s8tN2O-aW"
      },
      "source": [
        "model1 = tf.keras.models.Sequential([\n",
        "         tf.keras.layers.Flatten(),\n",
        "         tf.keras.layers.Dense(512,activation=tf.nn.relu),\n",
        "         tf.keras.layers.Dropout(0.2),\n",
        "         tf.keras.layers.Dense(3,activation=tf.nn.softmax)])\n",
        "\n",
        "optimiser = tf.keras.optimizers.Adam()\n",
        "model1.compile(optimizer= optimiser, loss='sparse_categorical_crossentropy', metrics = ['acc'])"
      ],
      "execution_count": 25,
      "outputs": []
    },
    {
      "cell_type": "code",
      "metadata": {
        "colab": {
          "base_uri": "https://localhost:8080/"
        },
        "id": "TY_cz1AsKJQp",
        "outputId": "a4febb0d-f8c6-464b-93a3-5f24024ae13d"
      },
      "source": [
        "#X_train, X_test, y_train, y_test = train_test_split(img_train, lab_train, test_size=0.15, random_state=20, shuffle=True)\n",
        "\n",
        "history = model1.fit(img_train, lab_train, epochs=15, batch_size=16, validation_split=0.2, shuffle=True)"
      ],
      "execution_count": 46,
      "outputs": [
        {
          "output_type": "stream",
          "text": [
            "Epoch 1/15\n",
            "10/10 [==============================] - 3s 350ms/step - loss: 2.5923e-04 - acc: 1.0000 - val_loss: 0.0563 - val_acc: 0.9730\n",
            "Epoch 2/15\n",
            "10/10 [==============================] - 3s 345ms/step - loss: 0.1102 - acc: 0.9796 - val_loss: 1.1301 - val_acc: 0.8919\n",
            "Epoch 3/15\n",
            "10/10 [==============================] - 3s 348ms/step - loss: 0.0960 - acc: 0.9864 - val_loss: 0.0000e+00 - val_acc: 1.0000\n",
            "Epoch 4/15\n",
            "10/10 [==============================] - 3s 350ms/step - loss: 0.1627 - acc: 0.9796 - val_loss: 4.2494 - val_acc: 0.6216\n",
            "Epoch 5/15\n",
            "10/10 [==============================] - 3s 345ms/step - loss: 0.3119 - acc: 0.9524 - val_loss: 2.4568 - val_acc: 0.5676\n",
            "Epoch 6/15\n",
            "10/10 [==============================] - 3s 346ms/step - loss: 0.1977 - acc: 0.9728 - val_loss: 0.0122 - val_acc: 1.0000\n",
            "Epoch 7/15\n",
            "10/10 [==============================] - 3s 342ms/step - loss: 0.0759 - acc: 0.9796 - val_loss: 0.6472 - val_acc: 0.7568\n",
            "Epoch 8/15\n",
            "10/10 [==============================] - 3s 340ms/step - loss: 0.1026 - acc: 0.9864 - val_loss: 0.0038 - val_acc: 1.0000\n",
            "Epoch 9/15\n",
            "10/10 [==============================] - 3s 346ms/step - loss: 0.1269 - acc: 0.9660 - val_loss: 2.0101 - val_acc: 0.6216\n",
            "Epoch 10/15\n",
            "10/10 [==============================] - 3s 344ms/step - loss: 0.1268 - acc: 0.9728 - val_loss: 1.2362 - val_acc: 0.6757\n",
            "Epoch 11/15\n",
            "10/10 [==============================] - 3s 344ms/step - loss: 0.1955 - acc: 0.9728 - val_loss: 1.9677 - val_acc: 0.6216\n",
            "Epoch 12/15\n",
            "10/10 [==============================] - 3s 342ms/step - loss: 0.1783 - acc: 0.9592 - val_loss: 0.4359 - val_acc: 0.7297\n",
            "Epoch 13/15\n",
            "10/10 [==============================] - 3s 351ms/step - loss: 0.1549 - acc: 0.9524 - val_loss: 4.0301 - val_acc: 0.5676\n",
            "Epoch 14/15\n",
            "10/10 [==============================] - 3s 347ms/step - loss: 0.1090 - acc: 0.9864 - val_loss: 0.2842 - val_acc: 0.9459\n",
            "Epoch 15/15\n",
            "10/10 [==============================] - 3s 349ms/step - loss: 0.1784 - acc: 0.9388 - val_loss: 0.1498 - val_acc: 0.9459\n"
          ],
          "name": "stdout"
        }
      ]
    },
    {
      "cell_type": "code",
      "metadata": {
        "colab": {
          "base_uri": "https://localhost:8080/",
          "height": 545
        },
        "id": "iC5HnqctBc4v",
        "outputId": "102166d3-f411-445f-b176-a6095f73caf8"
      },
      "source": [
        "acc = history.history['acc']\n",
        "val_acc = history.history['val_acc']\n",
        "loss = history.history['loss']\n",
        "val_loss = history.history['val_loss']\n",
        "epochs = range(len(acc))\n",
        "plt.plot(epochs, acc, '-', color='orange', label='training acc')\n",
        "plt.plot(epochs, val_acc, '-', color='blue', label='validation acc')\n",
        "plt.title('Training and validation accuracy')\n",
        "plt.legend()\n",
        "plt.show()\n",
        "\n",
        "plt.plot(epochs, loss, '-', color='orange', label='training acc')\n",
        "plt.plot(epochs, val_loss,  '-', color='blue', label='validation acc')\n",
        "plt.title('Training and validation loss')\n",
        "plt.legend()\n",
        "plt.show()"
      ],
      "execution_count": 50,
      "outputs": [
        {
          "output_type": "display_data",
          "data": {
            "image/png": "[encoded data removed]",
            "text/plain": [
              "<Figure size 432x288 with 1 Axes>"
            ]
          },
          "metadata": {
            "tags": [],
            "needs_background": "light"
          }
        },
        {
          "output_type": "display_data",
          "data": {
            "image/png": "[encoded data removed]",
            "text/plain": [
              "<Figure size 432x288 with 1 Axes>"
            ]
          },
          "metadata": {
            "tags": [],
            "needs_background": "light"
          }
        }
      ]
    },
    {
      "cell_type": "code",
      "metadata": {
        "id": "KjTUcm6-XTq5"
      },
      "source": [
        "train_image_generator = ImageDataGenerator(rescale=1./255, shear_range=0.2, zoom_range=0.2, \n",
        "                                           rotation_range=20, horizontal_flip=True)\n",
        "\n",
        "data_conf = train_image_generator.flow_from_directory(batch_size=32,\n",
        "                                                     directory=img_train,\n",
        "                                                     target_size=(224, 224),\n",
        "                                                     class_mode='binary')"
      ],
      "execution_count": null,
      "outputs": []
    },
    {
      "cell_type": "code",
      "metadata": {
        "id": "E7Q-0IMN875z"
      },
      "source": [
        ""
      ],
      "execution_count": 148,
      "outputs": []
    }
  ]
}